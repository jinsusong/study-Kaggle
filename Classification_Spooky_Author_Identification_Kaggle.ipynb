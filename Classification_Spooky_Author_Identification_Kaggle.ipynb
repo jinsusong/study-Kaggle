{
  "nbformat": 4,
  "nbformat_minor": 0,
  "metadata": {
    "colab": {
      "name": "Classification_Spooky Author Identification_Kaggle.ipynb",
      "private_outputs": true,
      "provenance": [],
      "machine_shape": "hm",
      "authorship_tag": "ABX9TyOGo/6fV6t4yXuulIDfkx1U",
      "include_colab_link": true
    },
    "kernelspec": {
      "name": "python3",
      "display_name": "Python 3"
    },
    "language_info": {
      "name": "python"
    },
    "accelerator": "TPU"
  },
  "cells": [
    {
      "cell_type": "markdown",
      "metadata": {
        "id": "view-in-github",
        "colab_type": "text"
      },
      "source": [
        "<a href=\"https://colab.research.google.com/github/jinsusong/study-Kaggle/blob/main/Classification_Spooky_Author_Identification_Kaggle.ipynb\" target=\"_parent\"><img src=\"https://colab.research.google.com/assets/colab-badge.svg\" alt=\"Open In Colab\"/></a>"
      ]
    },
    {
      "cell_type": "markdown",
      "source": [
        "# Kaggle Spooky Author Identification 데이터 불러오기 "
      ],
      "metadata": {
        "id": "fH3HavkYSLPT"
      }
    },
    {
      "cell_type": "code",
      "execution_count": null,
      "metadata": {
        "id": "U2-tBr0sPiLh"
      },
      "outputs": [],
      "source": [
        "!pip install kaggle\n",
        "from google.colab import files\n",
        "files.upload()"
      ]
    },
    {
      "cell_type": "code",
      "source": [
        "#!pip install --upgrade --force-reinstall --no-deps kaggle"
      ],
      "metadata": {
        "id": "o_TsaUm9RK2b"
      },
      "execution_count": null,
      "outputs": []
    },
    {
      "cell_type": "code",
      "source": [
        "\n",
        "!mkdir -p ~/.kaggle\n",
        "!cp kaggle.json ~/.kaggle/\n",
        "\n",
        "# Permission Warning 방지\n",
        "!chmod 600 ~/.kaggle/kaggle.json\n",
        "!pwd"
      ],
      "metadata": {
        "id": "HxKQxS0wPkNk"
      },
      "execution_count": null,
      "outputs": []
    },
    {
      "cell_type": "code",
      "source": [
        "!kaggle competitions download -c spooky-author-identification"
      ],
      "metadata": {
        "id": "MPTuOJAoPsTl"
      },
      "execution_count": null,
      "outputs": []
    },
    {
      "cell_type": "code",
      "source": [
        "!ls -al"
      ],
      "metadata": {
        "id": "Smx1GhkAQI_U"
      },
      "execution_count": null,
      "outputs": []
    },
    {
      "cell_type": "markdown",
      "source": [
        "# 데이터 압축 해제"
      ],
      "metadata": {
        "id": "AcXDnZ8ERxrq"
      }
    },
    {
      "cell_type": "code",
      "source": [
        "!mkdir data\n",
        "!unzip sample_submission.zip -d data/\n",
        "!unzip test.zip -d data/\n",
        "!unzip train.zip -d data/"
      ],
      "metadata": {
        "id": "9S31m9IcSQON"
      },
      "execution_count": null,
      "outputs": []
    },
    {
      "cell_type": "markdown",
      "source": [
        "# 데이터 확인하기 "
      ],
      "metadata": {
        "id": "IRAY-sgqSXyD"
      }
    },
    {
      "cell_type": "code",
      "source": [
        "import pandas as pd \n",
        "\n",
        "label_cols = ['author']\n",
        "train = pd.read_csv(\"data/train.csv\")\n",
        "print(len(train))\n",
        "#len_eap = train['author'] == 'EAP'\n",
        "#len_eap\n",
        "train.head()\n",
        "\n"
      ],
      "metadata": {
        "id": "8thF4OoPTP0W"
      },
      "execution_count": null,
      "outputs": []
    },
    {
      "cell_type": "code",
      "source": [
        "\n",
        "test = pd.read_csv(\"data/test.csv\")\n",
        "test.head()\n"
      ],
      "metadata": {
        "id": "cp2y829NTQnC"
      },
      "execution_count": null,
      "outputs": []
    },
    {
      "cell_type": "code",
      "source": [
        "print(train.author.value_counts())\n",
        "train.head()"
      ],
      "metadata": {
        "id": "Q6za9wE0P9tq"
      },
      "execution_count": null,
      "outputs": []
    },
    {
      "cell_type": "markdown",
      "source": [
        "#Preprocess Data "
      ],
      "metadata": {
        "id": "w9TY8aFDVFZX"
      }
    },
    {
      "cell_type": "code",
      "source": [
        "\n",
        "from sklearn import preprocessing\n",
        "\n",
        "#data preprocssing\n",
        "encoder = preprocessing.LabelEncoder()\n",
        "train['author'] = encoder.fit_transform(train[\"author\"].values)\n",
        "\n",
        "print(len(train))"
      ],
      "metadata": {
        "id": "8ejyzybxSNq1"
      },
      "execution_count": null,
      "outputs": []
    },
    {
      "cell_type": "code",
      "source": [
        "type(train)"
      ],
      "metadata": {
        "id": "r39vAap-bF4l"
      },
      "execution_count": null,
      "outputs": []
    },
    {
      "cell_type": "code",
      "source": [
        "from sklearn.model_selection import train_test_split\n",
        "X = list(train[\"text\"])\n",
        "y = list(train[\"author\"])\n",
        "X_train, X_val, y_train, y_val = train_test_split(X, y, test_size=0.1)\n",
        "\n",
        "#X_train, X_test, y_train, y_test = train_test_split(bert_train['text'], bert_train['target'], test_size=0.25, random_state=42)"
      ],
      "metadata": {
        "id": "cXVpkJH1xYPz"
      },
      "execution_count": null,
      "outputs": []
    },
    {
      "cell_type": "code",
      "source": [
        "print(len(X_train))\n",
        "print(len(y_train))\n",
        "X_train[:10]\n",
        "y_train[:10]\n"
      ],
      "metadata": {
        "id": "Mra4SaABSf-R"
      },
      "execution_count": null,
      "outputs": []
    },
    {
      "cell_type": "code",
      "source": [
        "type(X_train)\n",
        "type(y_train)"
      ],
      "metadata": {
        "id": "cJWwN6ToQS9C"
      },
      "execution_count": null,
      "outputs": []
    },
    {
      "cell_type": "code",
      "source": [
        "!pip install transformers"
      ],
      "metadata": {
        "id": "HDsb-ejYuZD2"
      },
      "execution_count": null,
      "outputs": []
    },
    {
      "cell_type": "markdown",
      "source": [
        "# 버트 토크나이저 로드 "
      ],
      "metadata": {
        "id": "d4D0X3kGTlmq"
      }
    },
    {
      "cell_type": "code",
      "source": [
        "from transformers import AutoTokenizer\n",
        "\n",
        "bert_model_name = 'bert-base-uncased'\n",
        "\n",
        "tokenizer = AutoTokenizer.from_pretrained(bert_model_name)\n"
      ],
      "metadata": {
        "id": "DdXSQeODUbDW"
      },
      "execution_count": null,
      "outputs": []
    },
    {
      "cell_type": "markdown",
      "source": [
        "#Tokenized"
      ],
      "metadata": {
        "id": "hNBrXu-ax4fR"
      }
    },
    {
      "cell_type": "code",
      "source": [
        "train_encodings = dict(tokenizer(X_train, padding=True, truncation=True, max_length=512,add_special_tokens=True, return_attention_mask=True))\n",
        "val_encodings = dict(tokenizer(X_val, padding=True, truncation=True, max_length=512))\n",
        "len(train_encodings)"
      ],
      "metadata": {
        "id": "qWCNIZy_yJh-"
      },
      "execution_count": null,
      "outputs": []
    },
    {
      "cell_type": "markdown",
      "source": [
        "#데이터 셋으로 변환"
      ],
      "metadata": {
        "id": "T2Q_8LBhEc08"
      }
    },
    {
      "cell_type": "code",
      "source": [
        "import tensorflow as tf\n",
        "batch_size = 32\n",
        "train_data = tf.data.Dataset.from_tensor_slices((train_encodings,y_train)).batch(batch_size).prefetch(1)\n",
        "\n"
      ],
      "metadata": {
        "id": "b6x7R27FL6yL"
      },
      "execution_count": null,
      "outputs": []
    },
    {
      "cell_type": "code",
      "source": [
        "train_data"
      ],
      "metadata": {
        "id": "vlIHXiCouisQ"
      },
      "execution_count": null,
      "outputs": []
    },
    {
      "cell_type": "code",
      "source": [
        "\n",
        "len(train_data)\n",
        "i = 0\n",
        "for element in train_data:\n",
        "  i += 1\n",
        "  print(element)\n",
        "  if i >= 1 : break"
      ],
      "metadata": {
        "id": "PYjm-wrCQ9ty"
      },
      "execution_count": null,
      "outputs": []
    },
    {
      "cell_type": "markdown",
      "source": [
        ""
      ],
      "metadata": {
        "id": "-phsGcMzL6Ej"
      }
    },
    {
      "cell_type": "markdown",
      "source": [
        "# Training the Model "
      ],
      "metadata": {
        "id": "l7UDYCYPU_OB"
      }
    },
    {
      "cell_type": "code",
      "source": [
        "# from transformers import TFBertForMultipleChoice\n",
        "\n",
        "# model = TFBertForMultipleChoice.from_pretrained(bert_model_name)\n",
        "\n",
        "\n",
        "from transformers import TFBertForSequenceClassification, AdamW, BertConfig\n",
        "\n",
        "# Load BertForSequenceClassification, the pretrained BERT model with a single \n",
        "# linear classification layer on top. \n",
        "model = TFBertForSequenceClassification.from_pretrained(\n",
        "    \"bert-base-uncased\", # Use the 12-layer BERT model, with an uncased vocab.\n",
        "    num_labels = 3, # The number of output labels--2 for binary classification.\n",
        "                    # You can increase this for multi-class tasks.   \n",
        "    output_attentions = False, # Whether the model returns attentions weights.\n",
        "    output_hidden_states = False, # Whether the model returns all hidden-states.\n",
        ")"
      ],
      "metadata": {
        "id": "q463bka5VDzZ"
      },
      "execution_count": null,
      "outputs": []
    },
    {
      "cell_type": "code",
      "source": [
        "# train_data \n",
        "# train_val_data \n",
        "# y_data \n",
        "# y_val_data \n",
        "\n",
        "# loss = tf.keras.losses.SparseCategoricalCrossentropy(from_logits=True)\n",
        "# # model.compile(optimizer='adam',loss=loss)\n",
        "# model.compile(optimizer=tf.keras.optimizers.Adam(learning_rate=3e-5, epsilon=1e-08, clipnorm=1.0), \n",
        "            #   loss=tf.keras.losses.sparse_categorical_crossentropy(from_logits=True), \n",
        "            #   metrics=[tf.keras.metrics.SparseCategoricalAccuracy('accuracy')])\n",
        "\n",
        "learning_rate = 2e-5\n",
        "\n",
        "# we will do just 1 epoch for illustration, though multiple epochs might be better as long as we will not overfit the model\n",
        "number_of_epochs = 1\n",
        "\n",
        "optimizer = tf.keras.optimizers.Adam(learning_rate=learning_rate, epsilon=1e-08)\n",
        "\n",
        "# we do not have one-hot vectors, we can use sparce categorical cross entropy and accuracy\n",
        "loss = tf.keras.losses.SparseCategoricalCrossentropy(from_logits=True)\n",
        "metric = tf.keras.metrics.SparseCategoricalAccuracy('accuracy')\n",
        "\n",
        "model.compile(optimizer=optimizer, loss=loss, metrics=[metric])"
      ],
      "metadata": {
        "id": "HrTWzmGWQbGV"
      },
      "execution_count": null,
      "outputs": []
    },
    {
      "cell_type": "code",
      "source": [
        "model.summary()"
      ],
      "metadata": {
        "id": "Fa8JQFkkqxY3"
      },
      "execution_count": null,
      "outputs": []
    },
    {
      "cell_type": "code",
      "source": [
        "# 모델의 구조 확인하기 \n",
        "tf.keras.utils.plot_model(model)"
      ],
      "metadata": {
        "id": "v8CA0sdMr-ww"
      },
      "execution_count": null,
      "outputs": []
    },
    {
      "cell_type": "code",
      "source": [
        "type(y_train)\n",
        "type(train_data)"
      ],
      "metadata": {
        "id": "rN5K_ofD0pLq"
      },
      "execution_count": null,
      "outputs": []
    },
    {
      "cell_type": "code",
      "source": [
        "model.fit(x=train_data,y=None , epochs=1, batch_size=32)\n",
        "#model.fit(train_data, validation_data=train_val_data, epochs=1)\n",
        "# test_encodings[\"input_ids\"]\n",
        "# y_data"
      ],
      "metadata": {
        "id": "PcDEZjBRYZip"
      },
      "execution_count": null,
      "outputs": []
    },
    {
      "cell_type": "code",
      "source": [
        "!pwd"
      ],
      "metadata": {
        "id": "kD4_wfsIqszr"
      },
      "execution_count": null,
      "outputs": []
    },
    {
      "cell_type": "code",
      "source": [
        "#model.save(\"SpookyAuthor.h5\")\n",
        "\n",
        "tf.keras.models.save_model(model, \"/content/spookyModel\") "
      ],
      "metadata": {
        "id": "gPDE3KbzLNZ0"
      },
      "execution_count": null,
      "outputs": []
    },
    {
      "cell_type": "code",
      "source": [
        ""
      ],
      "metadata": {
        "id": "tCc2fypG_qBU"
      },
      "execution_count": null,
      "outputs": []
    }
  ]
}