{
  "nbformat": 4,
  "nbformat_minor": 0,
  "metadata": {
    "colab": {
      "name": "Classification_Spooky Author Identification_Kaggle.ipynb",
      "private_outputs": true,
      "provenance": [],
      "machine_shape": "hm",
      "authorship_tag": "ABX9TyOsnZ1Cx35UR63wggHPkDB/",
      "include_colab_link": true
    },
    "kernelspec": {
      "name": "python3",
      "display_name": "Python 3"
    },
    "language_info": {
      "name": "python"
    },
    "accelerator": "GPU"
  },
  "cells": [
    {
      "cell_type": "markdown",
      "metadata": {
        "id": "view-in-github",
        "colab_type": "text"
      },
      "source": [
        "<a href=\"https://colab.research.google.com/github/jinsusong/study-Kaggle/blob/main/Classification_Spooky_Author_Identification_Kaggle.ipynb\" target=\"_parent\"><img src=\"https://colab.research.google.com/assets/colab-badge.svg\" alt=\"Open In Colab\"/></a>"
      ]
    },
    {
      "cell_type": "markdown",
      "source": [
        "# Kaggle Spooky Author Identification 데이터 불러오기 "
      ],
      "metadata": {
        "id": "fH3HavkYSLPT"
      }
    },
    {
      "cell_type": "code",
      "execution_count": null,
      "metadata": {
        "id": "U2-tBr0sPiLh"
      },
      "outputs": [],
      "source": [
        "!pip install kaggle\n",
        "from google.colab import files\n",
        "files.upload()"
      ]
    },
    {
      "cell_type": "code",
      "source": [
        "#!pip install --upgrade --force-reinstall --no-deps kaggle"
      ],
      "metadata": {
        "id": "o_TsaUm9RK2b"
      },
      "execution_count": null,
      "outputs": []
    },
    {
      "cell_type": "code",
      "source": [
        "\n",
        "!mkdir -p ~/.kaggle\n",
        "!cp kaggle.json ~/.kaggle/\n",
        "\n",
        "# Permission Warning 방지\n",
        "!chmod 600 ~/.kaggle/kaggle.json\n",
        "!pwd"
      ],
      "metadata": {
        "id": "HxKQxS0wPkNk"
      },
      "execution_count": null,
      "outputs": []
    },
    {
      "cell_type": "code",
      "source": [
        "!kaggle competitions download -c spooky-author-identification"
      ],
      "metadata": {
        "id": "MPTuOJAoPsTl"
      },
      "execution_count": null,
      "outputs": []
    },
    {
      "cell_type": "code",
      "source": [
        "!ls -al"
      ],
      "metadata": {
        "id": "Smx1GhkAQI_U"
      },
      "execution_count": null,
      "outputs": []
    },
    {
      "cell_type": "markdown",
      "source": [
        "# 데이터 압축 해제"
      ],
      "metadata": {
        "id": "AcXDnZ8ERxrq"
      }
    },
    {
      "cell_type": "code",
      "source": [
        "!mkdir data\n",
        "!unzip sample_submission.zip -d data/\n",
        "!unzip test.zip -d data/\n",
        "!unzip train.zip -d data/"
      ],
      "metadata": {
        "id": "9S31m9IcSQON"
      },
      "execution_count": null,
      "outputs": []
    },
    {
      "cell_type": "markdown",
      "source": [
        "# 데이터 확인하기 "
      ],
      "metadata": {
        "id": "IRAY-sgqSXyD"
      }
    },
    {
      "cell_type": "code",
      "source": [
        "import pandas as pd \n",
        "\n",
        "train = pd.read_csv(\"data/train.csv\")\n",
        "print(len(train))\n",
        "#len_eap = train['author'] == 'EAP'\n",
        "#len_eap\n",
        "train.head()\n",
        "\n"
      ],
      "metadata": {
        "id": "8thF4OoPTP0W"
      },
      "execution_count": null,
      "outputs": []
    },
    {
      "cell_type": "code",
      "source": [
        "\n",
        "test = pd.read_csv(\"data/test.csv\")\n",
        "test.head()\n"
      ],
      "metadata": {
        "id": "cp2y829NTQnC"
      },
      "execution_count": null,
      "outputs": []
    },
    {
      "cell_type": "code",
      "source": [
        "!pip install transformers"
      ],
      "metadata": {
        "id": "HDsb-ejYuZD2"
      },
      "execution_count": null,
      "outputs": []
    },
    {
      "cell_type": "markdown",
      "source": [
        "#Preprocess Data "
      ],
      "metadata": {
        "id": "w9TY8aFDVFZX"
      }
    },
    {
      "cell_type": "code",
      "source": [
        "from sklearn.model_selection import train_test_split\n",
        "X = list(train[\"text\"])\n",
        "y = list(train[\"author\"])\n",
        "X_train, X_val, y_train, y_val = train_test_split(X, y, test_size=0.1)"
      ],
      "metadata": {
        "id": "cXVpkJH1xYPz"
      },
      "execution_count": null,
      "outputs": []
    },
    {
      "cell_type": "code",
      "source": [
        "#X_train\n",
        "#y_train"
      ],
      "metadata": {
        "id": "cJWwN6ToQS9C"
      },
      "execution_count": null,
      "outputs": []
    },
    {
      "cell_type": "code",
      "source": [
        "#print(X_train_tokenized)\n",
        "#print(X_train_tokenized)"
      ],
      "metadata": {
        "id": "Wfn15pYVES-I"
      },
      "execution_count": null,
      "outputs": []
    },
    {
      "cell_type": "markdown",
      "source": [
        "# 버트 토크나이저 로드 "
      ],
      "metadata": {
        "id": "d4D0X3kGTlmq"
      }
    },
    {
      "cell_type": "code",
      "source": [
        "from transformers import AutoTokenizer\n",
        "\n",
        "bert_model_name = 'bert-base-uncased'\n",
        "\n",
        "tokenizer = AutoTokenizer.from_pretrained(bert_model_name)\n"
      ],
      "metadata": {
        "id": "DdXSQeODUbDW"
      },
      "execution_count": null,
      "outputs": []
    },
    {
      "cell_type": "markdown",
      "source": [
        "#Tokenized"
      ],
      "metadata": {
        "id": "hNBrXu-ax4fR"
      }
    },
    {
      "cell_type": "code",
      "source": [
        "train_encodings = tokenizer(X_train, padding=True, truncation=True, max_length=512,add_special_tokens=True, return_attention_mask=True) \n",
        "val_encodings = tokenizer(X_val, padding=True, truncation=True, max_length=512)\n",
        "len(train_encodings)\n"
      ],
      "metadata": {
        "id": "qWCNIZy_yJh-"
      },
      "execution_count": null,
      "outputs": []
    },
    {
      "cell_type": "code",
      "source": [
        "train_encodings[0]"
      ],
      "metadata": {
        "id": "muVAleVTN33W"
      },
      "execution_count": null,
      "outputs": []
    },
    {
      "cell_type": "markdown",
      "source": [
        "#데이터 셋으로 변환"
      ],
      "metadata": {
        "id": "T2Q_8LBhEc08"
      }
    },
    {
      "cell_type": "code",
      "source": [
        "import tensorflow as tf\n",
        "train_data = tf.data.Dataset.from_tensor_slices(train_encodings)"
      ],
      "metadata": {
        "id": "b6x7R27FL6yL"
      },
      "execution_count": null,
      "outputs": []
    },
    {
      "cell_type": "code",
      "source": [
        "train_data"
      ],
      "metadata": {
        "id": "4UzFIkvQNypD"
      },
      "execution_count": null,
      "outputs": []
    },
    {
      "cell_type": "code",
      "source": [
        "len(train_data)\n",
        "i == 0\n",
        "for element in train_data:\n",
        "  i += 1\n",
        "  print(element)\n",
        "  if i > 1 : break\n"
      ],
      "metadata": {
        "id": "PYjm-wrCQ9ty"
      },
      "execution_count": null,
      "outputs": []
    },
    {
      "cell_type": "markdown",
      "source": [
        ""
      ],
      "metadata": {
        "id": "-phsGcMzL6Ej"
      }
    },
    {
      "cell_type": "markdown",
      "source": [
        "# Training the Model "
      ],
      "metadata": {
        "id": "l7UDYCYPU_OB"
      }
    },
    {
      "cell_type": "code",
      "source": [
        "from transformers import BertForSequenceClassification\n",
        "\n",
        "model = BertForSequenceClassification.from_pretrained(bert_model_name)"
      ],
      "metadata": {
        "id": "q463bka5VDzZ"
      },
      "execution_count": null,
      "outputs": []
    },
    {
      "cell_type": "code",
      "source": [
        "output = model(input_ids=train_data)"
      ],
      "metadata": {
        "id": "PcDEZjBRYZip"
      },
      "execution_count": null,
      "outputs": []
    },
    {
      "cell_type": "code",
      "source": [
        ""
      ],
      "metadata": {
        "id": "gPDE3KbzLNZ0"
      },
      "execution_count": null,
      "outputs": []
    }
  ]
}