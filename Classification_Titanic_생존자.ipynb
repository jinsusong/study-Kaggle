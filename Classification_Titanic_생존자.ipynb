{
  "nbformat": 4,
  "nbformat_minor": 0,
  "metadata": {
    "colab": {
      "name": "Classification_Titanic_생존자.ipynb",
      "private_outputs": true,
      "provenance": [],
      "authorship_tag": "ABX9TyOejeVt4FORPLz11zmEo8aa",
      "include_colab_link": true
    },
    "kernelspec": {
      "name": "python3",
      "display_name": "Python 3"
    },
    "language_info": {
      "name": "python"
    }
  },
  "cells": [
    {
      "cell_type": "markdown",
      "metadata": {
        "id": "view-in-github",
        "colab_type": "text"
      },
      "source": [
        "<a href=\"https://colab.research.google.com/github/jinsusong/study-Kaggle/blob/main/Classification_Titanic_%EC%83%9D%EC%A1%B4%EC%9E%90.ipynb\" target=\"_parent\"><img src=\"https://colab.research.google.com/assets/colab-badge.svg\" alt=\"Open In Colab\"/></a>"
      ]
    },
    {
      "cell_type": "markdown",
      "source": [
        "###문제"
      ],
      "metadata": {
        "id": "qJBHBoAzVbDU"
      }
    },
    {
      "cell_type": "markdown",
      "source": [
        "타이타닉호의 침몰은 역사상 가장 악명 높은 난파선 중 하나입니다.\n",
        "\n",
        "1912년 4월 15일 그녀의 처녀 항해 중 \"침몰할 수 없는\" RMS 타이타닉호가 빙산과 충돌하여 침몰했습니다. 불행히도, 탑승한 모든 사람을 위한 구명정이 충분하지 않아 2224명의 승객과 승무원 중 1502명이 사망했습니다.\n",
        "\n",
        "생존에는 약간의 운이 포함되지만 일부 그룹의 사람들은 다른 그룹보다 생존할 가능성이 더 높은 것 같습니다.\n",
        "\n",
        "이 챌린지에서는 \"어떤 종류의 사람들이 생존할 가능성이 더 높았습니까?\"라는 질문에 답하는 예측 모델을 구축하도록 요청합니다. 승객 데이터(예: 이름, 나이, 성별, 사회 경제적 계층 등) 사용."
      ],
      "metadata": {
        "id": "2HOvvsWFU_5g"
      }
    },
    {
      "cell_type": "markdown",
      "source": [
        "###데이터"
      ],
      "metadata": {
        "id": "IgCQUkopVddO"
      }
    },
    {
      "cell_type": "markdown",
      "source": [
        "- Train.csv는 탑승한 승객의 하위 집합(정확히 891)에 대한 세부 정보를 포함하고 중요하게는 \"정확한 사실\"이라고도 알려진 그들이 생존했는지 여부\n",
        "- `test.csv` 데이터 세트에는 유사한 정보가 포함되어 있지만 각 승객에 대한 \"사실상\"을 공개하지 않습니다. 이러한 결과를 예측하는 것은 귀하의 몫\n",
        "- train.csv 데이터에서 찾은 패턴을 사용하여 탑승한 다른 418명의 승객(test.csv에서 발견)이 생존했는지 예측합니다.\n"
      ],
      "metadata": {
        "id": "3SoIOyq4VerU"
      }
    },
    {
      "cell_type": "markdown",
      "source": [
        "### 데이터 로드"
      ],
      "metadata": {
        "id": "K_19ODMaV-5T"
      }
    },
    {
      "cell_type": "code",
      "source": [
        "import pandas as pd\n",
        "\n",
        "train = pd.read_csv(\"train.csv\")\n",
        "train.head()\n"
      ],
      "metadata": {
        "id": "fhKPdGACWNsI"
      },
      "execution_count": null,
      "outputs": []
    },
    {
      "cell_type": "code",
      "source": [
        "test = pd.read_csv(\"test.csv\")\n",
        "test.head()"
      ],
      "metadata": {
        "id": "9gTAIDALWSap"
      },
      "execution_count": null,
      "outputs": []
    },
    {
      "cell_type": "markdown",
      "source": [
        "### 데이터 컬럼 분석"
      ],
      "metadata": {
        "id": "C8r6LpuzWXNc"
      }
    },
    {
      "cell_type": "code",
      "source": [
        "train.columns.tolist()\n",
        "test.columns.tolist()\n"
      ],
      "metadata": {
        "id": "0YuxkTbgWi7Q"
      },
      "execution_count": null,
      "outputs": []
    },
    {
      "cell_type": "markdown",
      "source": [
        "### 히스토그램으로 데이터 분석 "
      ],
      "metadata": {
        "id": "MlYgAVtDWmo2"
      }
    },
    {
      "cell_type": "code",
      "source": [
        "train."
      ],
      "metadata": {
        "id": "CNEQc9r9WtXE"
      },
      "execution_count": null,
      "outputs": []
    }
  ]
}