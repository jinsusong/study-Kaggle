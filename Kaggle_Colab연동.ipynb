{
  "nbformat": 4,
  "nbformat_minor": 0,
  "metadata": {
    "colab": {
      "name": "Kaggle_Colab연동.ipynb",
      "private_outputs": true,
      "provenance": [],
      "authorship_tag": "ABX9TyOfNt7HW7UMgCyExK9ltxJJ",
      "include_colab_link": true
    },
    "kernelspec": {
      "name": "python3",
      "display_name": "Python 3"
    },
    "language_info": {
      "name": "python"
    }
  },
  "cells": [
    {
      "cell_type": "markdown",
      "metadata": {
        "id": "view-in-github",
        "colab_type": "text"
      },
      "source": [
        "<a href=\"https://colab.research.google.com/github/jinsusong/study-Kaggle/blob/main/Kaggle_Colab%EC%97%B0%EB%8F%99.ipynb\" target=\"_parent\"><img src=\"https://colab.research.google.com/assets/colab-badge.svg\" alt=\"Open In Colab\"/></a>"
      ]
    },
    {
      "cell_type": "markdown",
      "source": [
        "# Kaggle과 Colab을 연동해서 사용하는 방법"
      ],
      "metadata": {
        "id": "Ifu0RQjXQVYR"
      }
    },
    {
      "cell_type": "markdown",
      "source": [
        "1. 나의 캐글 Account에서 API Token 다운 받기\n",
        "    - Account > Create New API를 클릭하면 kaggle.json 파일이 다운로드 된다.\n",
        "\n",
        "2. Colab에서 아래 코드 실행하기\n",
        "\n",
        "\n",
        "    !pip install kaggle\n",
        "    from google.colab import files\n",
        "    files.upload()\n",
        "\n",
        "\n",
        "3. Choose Files를 클릭하고 다운받았던 kaggle.json 파일을 업로드한다.\n",
        "\n",
        "4. ls -1ha kaggle.json\n",
        "    - 출력되면 제대로 잘 업로드 된 것\n",
        "\n",
        "5.  Kaggle API를 사용하기 위해서는 json 파일을 ~/.kaggle로 이동시켜야 한다\n",
        "\n",
        "\n",
        "    !mkdir -p ~/.kaggle\n",
        "    !cp kaggle.json ~/.kaggle/\n",
        "\n",
        "    # Permission Warning 방지\n",
        "    !chmod 600 ~/.kaggle/kaggle.json\n",
        "\n",
        "6. 캐글 대회 데이터셋 불러오기\n",
        "    - kaggle에서 사용하고 싶은 데이터셋 대회의 API 주소를 복사하고, 주소 앞에 !(느낌표)를 붙여 코드를 실행한다.\n",
        "\n",
        "7. 주소 앞에 ! 붙이기\n",
        "\n",
        "    !kaggle competitions download -c titanic\n",
        "\n",
        "7. 아래 코드를 실행하면 다운로드 된 모든 파일의 이름을 확인\n",
        "\n",
        "\n",
        "    !ls\n",
        "\n"
      ],
      "metadata": {
        "id": "QAsLQlpkQaNo"
      }
    },
    {
      "cell_type": "code",
      "source": [
        ""
      ],
      "metadata": {
        "id": "7Dr-oRrCQnhG"
      },
      "execution_count": null,
      "outputs": []
    }
  ]
}