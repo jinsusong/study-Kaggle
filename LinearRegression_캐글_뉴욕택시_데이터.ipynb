{
  "nbformat": 4,
  "nbformat_minor": 0,
  "metadata": {
    "colab": {
      "name": "LinearRegression_캐글 뉴욕택시 데이터.ipynb",
      "private_outputs": true,
      "provenance": [],
      "machine_shape": "hm",
      "authorship_tag": "ABX9TyNcVK8u2GgKIRW4fv9ghLpO",
      "include_colab_link": true
    },
    "kernelspec": {
      "name": "python3",
      "display_name": "Python 3"
    },
    "language_info": {
      "name": "python"
    },
    "accelerator": "GPU"
  },
  "cells": [
    {
      "cell_type": "markdown",
      "metadata": {
        "id": "view-in-github",
        "colab_type": "text"
      },
      "source": [
        "<a href=\"https://colab.research.google.com/github/jinsusong/study-Kaggle/blob/main/LinearRegression_%EC%BA%90%EA%B8%80_%EB%89%B4%EC%9A%95%ED%83%9D%EC%8B%9C_%EB%8D%B0%EC%9D%B4%ED%84%B0.ipynb\" target=\"_parent\"><img src=\"https://colab.research.google.com/assets/colab-badge.svg\" alt=\"Open In Colab\"/></a>"
      ]
    },
    {
      "cell_type": "markdown",
      "source": [
        "# 캐글 대회 제출 (데이터사이언스 일단 따라하기) 튜토리얼"
      ],
      "metadata": {
        "id": "jmd6X6iv1L18"
      }
    },
    {
      "cell_type": "markdown",
      "source": [
        "데이터사이언스를 통하여 문제를 풀 때,\n",
        "1. 풀고싶은 문제가 무엇인지 (What)\n",
        "2. 왜 이 문제가 생겨나는지(Why)\n",
        "3. 이 문제를 어떻게 풀것인지(How)\n",
        "단계가 있다. \n"
      ],
      "metadata": {
        "id": "CL4djOF11ZET"
      }
    },
    {
      "cell_type": "markdown",
      "source": [
        "1. pandas 설치\n",
        "2. pandas 라이브러리 불러오기 \n",
        "3. pandas 함수 중 엑셀파일을 읽어오는 read_csv()를 사용해서 훈련 엑셀파일 로드하기 \n",
        "4. 데이터 확인하기 \n"
      ],
      "metadata": {
        "id": "t63MNPO71k2N"
      }
    },
    {
      "cell_type": "code",
      "source": [
        "import pandas as pd\n",
        "# 뉴욕택시 트레인 데이터와 테스트 데이터\n",
        "train = pd.read_csv(\"https://www.dropbox.com/s/k94xzp4qjuoxcp1/train.csv?dl=1\")\n",
        "train.head(20)"
      ],
      "metadata": {
        "id": "K3AXE9mA1yYT"
      },
      "execution_count": null,
      "outputs": []
    },
    {
      "cell_type": "markdown",
      "source": [
        "1. test dataset을 불러오기 \n",
        "2. head()로 데이터 확인하기 \n",
        "\n"
      ],
      "metadata": {
        "id": "eemmXaji18yh"
      }
    },
    {
      "cell_type": "code",
      "source": [
        "# 뉴욕택시 트레인 데이터와 테스트 데이터\n",
        "test = pd.read_csv(\"https://www.dropbox.com/s/k94xzp4qjuoxcp1/test.csv?dl=1\")\n",
        "test.head(20)\n"
      ],
      "metadata": {
        "id": "vcyXj0Hq2SAs"
      },
      "execution_count": null,
      "outputs": []
    },
    {
      "cell_type": "markdown",
      "source": [
        "1. train과 test dataset의 column을 불러오기 "
      ],
      "metadata": {
        "id": "r34-iEGL2fHu"
      }
    },
    {
      "cell_type": "code",
      "source": [
        "print(train.columns.tolist())\n",
        "print(test.columns.tolist())"
      ],
      "metadata": {
        "id": "fScOluXV2llB"
      },
      "execution_count": null,
      "outputs": []
    },
    {
      "cell_type": "markdown",
      "source": [
        "Datascience의 목적은 \n",
        "1. Classification : 분류 ex) 강아지 , 고양이 분류 \n",
        "2. Regression : 예측 ex) 시계열 데이터 예측 \n",
        "3. 기타 등등 \n"
      ],
      "metadata": {
        "id": "THEOj5Xl2ruy"
      }
    },
    {
      "cell_type": "markdown",
      "source": [
        "1. matplotlib를 사용하여 학습 데이터의 fare mount를 히스토그램으로 보는 것 \n",
        "2. bins로 30개의 샘플을 0.9 투명도로 그래프를 그려본다. \n",
        "\n"
      ],
      "metadata": {
        "id": "NYJBZC_o3C16"
      }
    },
    {
      "cell_type": "code",
      "source": [
        "import matplotlib.pyplot as plt \n",
        "train.fare_amount.hist(bins=30, alpha=0.9)\n",
        "# hist() 함수의 bins 파라미터는 히스토그램의 가로축 구간의 개수를 지정\n",
        "# alpha=0.9 투명도"
      ],
      "metadata": {
        "id": "gAKU_DLH3YLO"
      },
      "execution_count": null,
      "outputs": []
    },
    {
      "cell_type": "markdown",
      "source": [
        "1. 간단한 예측 방법인 Linear Regression\n",
        "2. Linear Regression : \n",
        "3. 머신러닝 라이브러리인 sklearn 라이브러리르 설치 후 LinearRegresssion 을 임포트\n",
        "4. lr 변수로 불러온 LinearRegression을 선언"
      ],
      "metadata": {
        "id": "u2baPMdF3fKo"
      }
    },
    {
      "cell_type": "code",
      "source": [
        "!pip install sklearn\n",
        "from sklearn.linear_model import LinearRegression\n",
        "lr = LinearRegression()"
      ],
      "metadata": {
        "id": "vkQsGN2f4zdM"
      },
      "execution_count": null,
      "outputs": []
    },
    {
      "cell_type": "markdown",
      "source": [
        "1. LinearRegression 라이브러리 중 fit이란 함수로 학습을 시작할 수 있다. \n",
        "2. train 데이터 feature 중 pickup_longitude, pickup_latitude, dropoff_longitude, dropoff_latitude, passenger_count 를 사용하여 학습 \n",
        "3. y 값은 fare_amount를 사용 \n",
        "4. 손님을 태운 위도, 척도, 손님이 내린 위도 및 척도, 승객 숫자를 이용하여 요금을 예측하는 모델을 linear regression을 이용하여 만든다. \n",
        "\n"
      ],
      "metadata": {
        "id": "TqwoXEBp46hv"
      }
    },
    {
      "cell_type": "code",
      "source": [
        "train[['pickup_longitude', 'pickup_latitude', 'dropoff_longitude', 'dropoff_latitude', 'passenger_count']]"
      ],
      "metadata": {
        "id": "swVJ4QRk9C6K"
      },
      "execution_count": null,
      "outputs": []
    },
    {
      "cell_type": "code",
      "source": [
        "lr.fit(X=train[['pickup_longitude', 'pickup_latitude', 'dropoff_longitude', 'dropoff_latitude', 'passenger_count']], y=train['fare_amount'])\n",
        "LinearRegression(copy_X=True, fit_intercept=True, n_jobs=None, normalize=False)"
      ],
      "metadata": {
        "id": "J02HhUnD5VLt"
      },
      "execution_count": null,
      "outputs": []
    },
    {
      "cell_type": "code",
      "source": [
        ""
      ],
      "metadata": {
        "id": "V84_nT1O82qg"
      },
      "execution_count": null,
      "outputs": []
    },
    {
      "cell_type": "markdown",
      "source": [
        "1. 위에서 정한 features를 리스트로 만들어 features란 변수로 선언 "
      ],
      "metadata": {
        "id": "AhplT1BA67F3"
      }
    },
    {
      "cell_type": "code",
      "source": [
        "features=['pickup_longitude', 'pickup_latitude', 'dropoff_longitude', 'dropoff_latitude', 'passenger_count']\n"
      ],
      "metadata": {
        "id": "HcPFAD6m7G8v"
      },
      "execution_count": null,
      "outputs": []
    },
    {
      "cell_type": "markdown",
      "source": [
        "1. Linear Regression 라이브러리에 predict란 기능이 있다. \n",
        "2. test 데이터에서의 feature를 사용하여 Linear Regression모델을 사용해 predict를 한다.\n",
        "3. 산출 된 값을 test데이터에 fare_amount란 column을 만들어 저장한다. \n",
        "\n"
      ],
      "metadata": {
        "id": "x-TV3kJ57OH_"
      }
    },
    {
      "cell_type": "code",
      "source": [
        "# 테스트데이터를 사용해서 예측해봅시당. \n",
        "test['fare_amount']=lr.predict(test[features])\n"
      ],
      "metadata": {
        "id": "dp1m4jzT7ggm"
      },
      "execution_count": null,
      "outputs": []
    },
    {
      "cell_type": "code",
      "source": [
        "test"
      ],
      "metadata": {
        "id": "itfqUate7nIN"
      },
      "execution_count": null,
      "outputs": []
    },
    {
      "cell_type": "markdown",
      "source": [
        "1. 캐글 대회에서 submit할 때 보통 정혀진 형식의 csv 파일을 제출 \n",
        "2. 뉴욕 택시 요금 대회에서 샘플로 주어진 데이터를 확인\n"
      ],
      "metadata": {
        "id": "8-u0mfIKLhe0"
      }
    },
    {
      "cell_type": "code",
      "source": [
        "submit = pd.read_csv('https://www.dropbox.com/s/j74r663n1ftwhig/sample_submission.csv?dl=1')"
      ],
      "metadata": {
        "id": "EtdSR-BwLs9Q"
      },
      "execution_count": null,
      "outputs": []
    },
    {
      "cell_type": "code",
      "source": [
        "submit"
      ],
      "metadata": {
        "id": "yQxAeaQvLyb9"
      },
      "execution_count": null,
      "outputs": []
    },
    {
      "cell_type": "markdown",
      "source": [
        "1. submit 형식은 key, fare_amount의 column만 제출 \n",
        "2. test 데이터 셋에서  columns를 추출해서 형식에 맞게 출력\n"
      ],
      "metadata": {
        "id": "_NUhpL62L0Ns"
      }
    },
    {
      "cell_type": "code",
      "source": [
        "# submit 하기 위한 파일을 생성\n",
        "tax_submission = test[['key','fare_amount']]"
      ],
      "metadata": {
        "id": "0Y-umXFyME8P"
      },
      "execution_count": null,
      "outputs": []
    },
    {
      "cell_type": "code",
      "source": [
        "tax_submission"
      ],
      "metadata": {
        "id": "9uY3g5L6MLEN"
      },
      "execution_count": null,
      "outputs": []
    },
    {
      "cell_type": "code",
      "source": [
        "#.csv파일로 저장하기 \n",
        "tax_submission.to_csv('second_sub.csv',index=False)"
      ],
      "metadata": {
        "id": "5jaP1EYTMMMO"
      },
      "execution_count": null,
      "outputs": []
    },
    {
      "cell_type": "code",
      "source": [
        "tax_submission"
      ],
      "metadata": {
        "id": "WMeDkjsrMaF9"
      },
      "execution_count": null,
      "outputs": []
    },
    {
      "cell_type": "code",
      "source": [
        ""
      ],
      "metadata": {
        "id": "S1iBNAG8Mekd"
      },
      "execution_count": null,
      "outputs": []
    }
  ]
}