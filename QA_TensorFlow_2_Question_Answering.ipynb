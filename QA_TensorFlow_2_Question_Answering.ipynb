{
  "nbformat": 4,
  "nbformat_minor": 0,
  "metadata": {
    "colab": {
      "name": "QA_TensorFlow 2 Question Answering.ipynb",
      "private_outputs": true,
      "provenance": [],
      "machine_shape": "hm",
      "authorship_tag": "ABX9TyMftwB/JJ7JIbM+ijdSk4qB",
      "include_colab_link": true
    },
    "kernelspec": {
      "name": "python3",
      "display_name": "Python 3"
    },
    "language_info": {
      "name": "python"
    },
    "accelerator": "GPU"
  },
  "cells": [
    {
      "cell_type": "markdown",
      "metadata": {
        "id": "view-in-github",
        "colab_type": "text"
      },
      "source": [
        "<a href=\"https://colab.research.google.com/github/jinsusong/study-Kaggle/blob/main/QA_TensorFlow_2_Question_Answering.ipynb\" target=\"_parent\"><img src=\"https://colab.research.google.com/assets/colab-badge.svg\" alt=\"Open In Colab\"/></a>"
      ]
    },
    {
      "cell_type": "markdown",
      "source": [
        "# TensorFlow 2.0 Question Answering"
      ],
      "metadata": {
        "id": "pyQJ606EHqli"
      }
    },
    {
      "cell_type": "markdown",
      "source": [
        "#데이터 로드"
      ],
      "metadata": {
        "id": "Yj6_6Eq0H5tA"
      }
    },
    {
      "cell_type": "code",
      "execution_count": null,
      "metadata": {
        "id": "8uzBmAvcC8E6"
      },
      "outputs": [],
      "source": [
        "!pip install kaggle"
      ]
    },
    {
      "cell_type": "code",
      "source": [
        "from google.colab import files\n",
        "files.upload()"
      ],
      "metadata": {
        "id": "ZKqdblNsC-aD"
      },
      "execution_count": null,
      "outputs": []
    },
    {
      "cell_type": "code",
      "source": [
        "!mkdir -p ~/.kaggle\n",
        "!cp kaggle.json ~/.kaggle/\n",
        "!chmod 600 ~/.kaggle/kaggle.json"
      ],
      "metadata": {
        "id": "FRcod1RaDFCa"
      },
      "execution_count": null,
      "outputs": []
    },
    {
      "cell_type": "code",
      "source": [
        "!kaggle competitions download -c tensorflow2-question-answering"
      ],
      "metadata": {
        "id": "I_ub0Dn3DTU6"
      },
      "execution_count": null,
      "outputs": []
    },
    {
      "cell_type": "code",
      "source": [
        "%cd /content"
      ],
      "metadata": {
        "id": "G93MOKSuDV3i"
      },
      "execution_count": null,
      "outputs": []
    },
    {
      "cell_type": "code",
      "source": [
        "%pwd"
      ],
      "metadata": {
        "id": "ivb57gT2EXFi"
      },
      "execution_count": null,
      "outputs": []
    },
    {
      "cell_type": "code",
      "source": [
        "!mkdir data\n"
      ],
      "metadata": {
        "id": "CJ-H3GucEePa"
      },
      "execution_count": null,
      "outputs": []
    },
    {
      "cell_type": "code",
      "source": [
        "!unzip simplified-nq-train.jsonl.zip -d data/"
      ],
      "metadata": {
        "id": "_3D_khrtEuDp"
      },
      "execution_count": null,
      "outputs": []
    },
    {
      "cell_type": "code",
      "source": [
        "!unzip simplified-nq-test.jsonl.zip -d data/"
      ],
      "metadata": {
        "id": "IUShe93mFYXJ"
      },
      "execution_count": null,
      "outputs": []
    },
    {
      "cell_type": "code",
      "source": [
        "!pip install pysimdjson"
      ],
      "metadata": {
        "id": "axvv_y2dg-gf"
      },
      "execution_count": null,
      "outputs": []
    },
    {
      "cell_type": "markdown",
      "source": [
        "- file.read_lines()은 한줄씩 읽어오기는 좋지만 input.txt의 내용이 기가바이트(gb)일 때는 일단 메모리에 다 올려놓고 처리 하기 때문에 데이터가 많다면 좋은 방법은 아닙니다.\n",
        "\n",
        "- 메모리로 모두 읽은 후 처리하지 않고 한줄씩 읽어서 처리 합니다."
      ],
      "metadata": {
        "id": "SRz3yoFNmXya"
      }
    },
    {
      "cell_type": "code",
      "source": [
        "import json\n",
        "from pprint import pprint\n",
        "\n",
        "file_path = \"data/simplified-nq-train.jsonl\"\n",
        "\n",
        "with open(file_path) as f:\n",
        "    for line in f:\n",
        "        #process(line)\n",
        "        data = json.loads(line)"
      ],
      "metadata": {
        "id": "Cl4X28P_dFjw"
      },
      "execution_count": null,
      "outputs": []
    },
    {
      "cell_type": "code",
      "source": [
        "pprint(data.keys())\n",
        "pprint(data['question_text'])\n",
        "print(len(data))"
      ],
      "metadata": {
        "id": "kTEvZfKxrqfQ"
      },
      "execution_count": null,
      "outputs": []
    },
    {
      "cell_type": "code",
      "source": [
        "# X data\n",
        "# document_text : str : 기사   \n",
        "# question_text : str : 질문 \n",
        "# long_answer_candidates : list : 긴 답변 후보들 : ??? \n",
        "    #{\n",
        "    #start_token : int , \n",
        "    # end_token : int , \n",
        "    # top_level: True/False \n",
        "    #}\n",
        "\n",
        "# Y label\n",
        "# annotations : list : 올바른 긴 답변 , 짧은 답변\n",
        "    #{\n",
        "    #annotation_id, \n",
        "    #long_answer, \n",
        "        # candidate_index\n",
        "        # start_token : int\n",
        "        # end_token : int\n",
        "    #short_answers, \n",
        "        # start_token : int \n",
        "        # end_token : int\n",
        "    #yes_no_answer\n",
        "    #}\n",
        "\n",
        "\n",
        "\n",
        "\n",
        "pprint(type(data['long_answer_candidates']))\n",
        "pprint(data['long_answer_candidates'])\n",
        "\n",
        "pprint(type(data['annotations']))\n",
        "pprint(data['annotations'])"
      ],
      "metadata": {
        "id": "7By5mmcawTcd"
      },
      "execution_count": null,
      "outputs": []
    },
    {
      "cell_type": "code",
      "source": [
        "N = 30\n",
        "with open(file_path, encoding='utf-8') as myfile:\n",
        "    head = [next(myfile) for x in range(N)]\n",
        "print(len(head))\n",
        "for l in head:\n",
        "    print(l)"
      ],
      "metadata": {
        "id": "lrRHKHmKrp00"
      },
      "execution_count": null,
      "outputs": []
    },
    {
      "cell_type": "code",
      "source": [
        "import pandas as pd\n",
        "# 로드 시 램 터짐\n",
        "train_df = pd.read_json(\"data/simplified-nq-train.jsonl\", lines=True)\n",
        "train_df.head()"
      ],
      "metadata": {
        "id": "pLV7HcC2GGb5"
      },
      "execution_count": null,
      "outputs": []
    },
    {
      "cell_type": "code",
      "source": [
        "test_df = pd.read_json(\"data/simplified-nq-test.jsonl\")\n",
        "test_df.head()"
      ],
      "metadata": {
        "id": "ypRIlxnBHSSY"
      },
      "execution_count": null,
      "outputs": []
    },
    {
      "cell_type": "code",
      "source": [
        ""
      ],
      "metadata": {
        "id": "i1gDXEvGIG0I"
      },
      "execution_count": null,
      "outputs": []
    }
  ]
}