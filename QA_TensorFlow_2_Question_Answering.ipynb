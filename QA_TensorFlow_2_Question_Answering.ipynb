{
  "nbformat": 4,
  "nbformat_minor": 0,
  "metadata": {
    "colab": {
      "name": "QA_TensorFlow 2 Question Answering.ipynb",
      "private_outputs": true,
      "provenance": [],
      "collapsed_sections": [],
      "machine_shape": "hm",
      "authorship_tag": "ABX9TyMa+XY9MODPkw3R3eL6frCu",
      "include_colab_link": true
    },
    "kernelspec": {
      "name": "python3",
      "display_name": "Python 3"
    },
    "language_info": {
      "name": "python"
    },
    "accelerator": "GPU"
  },
  "cells": [
    {
      "cell_type": "markdown",
      "metadata": {
        "id": "view-in-github",
        "colab_type": "text"
      },
      "source": [
        "<a href=\"https://colab.research.google.com/github/jinsusong/study-Kaggle/blob/main/QA_TensorFlow_2_Question_Answering.ipynb\" target=\"_parent\"><img src=\"https://colab.research.google.com/assets/colab-badge.svg\" alt=\"Open In Colab\"/></a>"
      ]
    },
    {
      "cell_type": "markdown",
      "source": [
        "# TensorFlow 2.0 Question Answering"
      ],
      "metadata": {
        "id": "pyQJ606EHqli"
      }
    },
    {
      "cell_type": "markdown",
      "source": [
        "#데이터 로드"
      ],
      "metadata": {
        "id": "Yj6_6Eq0H5tA"
      }
    },
    {
      "cell_type": "code",
      "execution_count": null,
      "metadata": {
        "id": "8uzBmAvcC8E6"
      },
      "outputs": [],
      "source": [
        "!pip install kaggle"
      ]
    },
    {
      "cell_type": "code",
      "source": [
        "from google.colab import files\n",
        "files.upload()"
      ],
      "metadata": {
        "id": "ZKqdblNsC-aD"
      },
      "execution_count": null,
      "outputs": []
    },
    {
      "cell_type": "code",
      "source": [
        "!mkdir -p ~/.kaggle\n",
        "!cp kaggle.json ~/.kaggle/\n",
        "!chmod 600 ~/.kaggle/kaggle.json"
      ],
      "metadata": {
        "id": "FRcod1RaDFCa"
      },
      "execution_count": null,
      "outputs": []
    },
    {
      "cell_type": "code",
      "source": [
        "!kaggle competitions download -c tensorflow2-question-answering"
      ],
      "metadata": {
        "id": "I_ub0Dn3DTU6"
      },
      "execution_count": null,
      "outputs": []
    },
    {
      "cell_type": "code",
      "source": [
        "%cd /content"
      ],
      "metadata": {
        "id": "G93MOKSuDV3i"
      },
      "execution_count": null,
      "outputs": []
    },
    {
      "cell_type": "code",
      "source": [
        "%pwd"
      ],
      "metadata": {
        "id": "ivb57gT2EXFi"
      },
      "execution_count": null,
      "outputs": []
    },
    {
      "cell_type": "code",
      "source": [
        "!mkdir data\n"
      ],
      "metadata": {
        "id": "CJ-H3GucEePa"
      },
      "execution_count": null,
      "outputs": []
    },
    {
      "cell_type": "code",
      "source": [
        "!unzip simplified-nq-train.jsonl.zip -d data/"
      ],
      "metadata": {
        "id": "_3D_khrtEuDp"
      },
      "execution_count": null,
      "outputs": []
    },
    {
      "cell_type": "code",
      "source": [
        "!unzip simplified-nq-test.jsonl.zip -d data/"
      ],
      "metadata": {
        "id": "IUShe93mFYXJ"
      },
      "execution_count": null,
      "outputs": []
    },
    {
      "cell_type": "code",
      "source": [
        "!pip install pysimdjson"
      ],
      "metadata": {
        "id": "axvv_y2dg-gf"
      },
      "execution_count": null,
      "outputs": []
    },
    {
      "cell_type": "markdown",
      "source": [
        "- file.read_lines()은 한줄씩 읽어오기는 좋지만 input.txt의 내용이 기가바이트(gb)일 때는 일단 메모리에 다 올려놓고 처리 하기 때문에 데이터가 많다면 좋은 방법은 아닙니다.\n",
        "\n",
        "- 메모리로 모두 읽은 후 처리하지 않고 한줄씩 읽어서 처리 합니다."
      ],
      "metadata": {
        "id": "SRz3yoFNmXya"
      }
    },
    {
      "cell_type": "markdown",
      "source": [
        "# 데이터 전처리 문장에서 <태그> 제거"
      ],
      "metadata": {
        "id": "QgRTgOiDi7Mh"
      }
    },
    {
      "cell_type": "code",
      "source": [
        "# 문단에서 html 제거를 위한 함수\n",
        "def cleanhtml(raw_html):\n",
        "    cleanr = re.compile('<.*?>')\n",
        "    cleantext =re.sub(cleanr,'',raw_html)\n",
        "    return cleantext"
      ],
      "metadata": {
        "id": "qUhHC08BiYB9"
      },
      "execution_count": null,
      "outputs": []
    },
    {
      "cell_type": "markdown",
      "source": [
        "# 데이터 전처리 json -> dataFrame"
      ],
      "metadata": {
        "id": "3tDBVOGzi1Mz"
      }
    },
    {
      "cell_type": "code",
      "source": [
        "def create_df(data):\n",
        "        # X\n",
        "        document = cleanhtml(data['document_text'])\n",
        "        question = data['question_text']\n",
        "        # Y\n",
        "        y_start = data['annotations'][0]['long_answer']['start_token']\n",
        "        y_end = data['annotations'][0]['long_answer']['end_token']\n",
        "\n",
        "        if y_start == -1 :\n",
        "            y_answer = \"None\"\n",
        "        else:\n",
        "            y_answer = cleanhtml(data['document_text'][y_start:y_end+1])\n",
        "\n",
        "        #print(document)\n",
        "        # print(question)\n",
        "        # print(y_start)\n",
        "        # print(y_end)\n",
        "        # print(y_answer)\n",
        "\n",
        "        temp_list = []\n",
        "        temp_list.append(document)\n",
        "        temp_list.append(question)\n",
        "        temp_list.append(y_answer)\n",
        "        return temp_list\n",
        "\n",
        "\n"
      ],
      "metadata": {
        "id": "sywyWYfyjBYq"
      },
      "execution_count": null,
      "outputs": []
    },
    {
      "cell_type": "code",
      "source": [
        "import json\n",
        "from pprint import pprint\n",
        "import re\n",
        "import pandas as pd\n"
      ],
      "metadata": {
        "id": "T3Tf6e4lpHER"
      },
      "execution_count": null,
      "outputs": []
    },
    {
      "cell_type": "code",
      "source": [
        "\n",
        "\n",
        "file_path = \"data/simplified-nq-train.jsonl\"\n",
        "i = 0 \n",
        "comp_list = []\n",
        "cols = [\"text\",\"question\",\"answer\"]\n",
        "\n",
        "with open(file_path) as f:\n",
        "    for line in f:\n",
        "        data = json.loads(line)\n",
        "        new_df = create_df(data)\n",
        "        comp_list.append(new_df)\n",
        "\n",
        "new_df = pd.DataFrame(comp_list, columns=cols)"
      ],
      "metadata": {
        "id": "Cl4X28P_dFjw"
      },
      "execution_count": null,
      "outputs": []
    },
    {
      "cell_type": "markdown",
      "source": [
        "- X data\n",
        "1. document_text : str : 기사   \n",
        "2. question_text : str : 질문 \n",
        "3. long_answer_candidates : list : 긴 답변 후보들 : ??? \n",
        "    - start_token : int , \n",
        "    - end_token : int , \n",
        "    - top_level: True/False \n",
        "\n",
        "- Y label\n",
        "1. annotations : list : 올바른 긴 답변 , 짧은 답변\n",
        "    - annotation_id, \n",
        "    - long_answer, \n",
        "        - candidate_index\n",
        "        - start_token : int\n",
        "        - end_token : int\n",
        "    - short_answers, \n",
        "        - start_token : int \n",
        "        - end_token : int\n",
        "    - yes_no_answer"
      ],
      "metadata": {
        "id": "7w-wtpsHpqqf"
      }
    },
    {
      "cell_type": "code",
      "source": [
        "# pprint(data.keys())\n",
        "# print(pprint(data))\n",
        "# print(data['annotations'][0]['long_answer']['start_token'])\n",
        "# print(data['annotations'][0]['yes_no_answer'])\n",
        "# print(len(data))"
      ],
      "metadata": {
        "id": "kTEvZfKxrqfQ"
      },
      "execution_count": null,
      "outputs": []
    },
    {
      "cell_type": "code",
      "source": [
        "new_df.head()"
      ],
      "metadata": {
        "id": "-s5-_uG7mUhq"
      },
      "execution_count": null,
      "outputs": []
    },
    {
      "cell_type": "code",
      "source": [
        "new_df.to_csv(\"tf_QA_data.csv\", index=False)"
      ],
      "metadata": {
        "id": "TVlcnYZHnoYU"
      },
      "execution_count": null,
      "outputs": []
    },
    {
      "cell_type": "code",
      "source": [
        "data = pd.read_csv(\"tf_QA_data.csv\")\n",
        "data.head()"
      ],
      "metadata": {
        "id": "OX-t8Olenulh"
      },
      "execution_count": null,
      "outputs": []
    },
    {
      "cell_type": "code",
      "source": [
        "len(data)"
      ],
      "metadata": {
        "id": "i1gDXEvGIG0I"
      },
      "execution_count": null,
      "outputs": []
    },
    {
      "cell_type": "markdown",
      "source": [
        "#모델링 "
      ],
      "metadata": {
        "id": "P0LLcNqCqJMy"
      }
    },
    {
      "cell_type": "code",
      "source": [
        "!pip install transformers"
      ],
      "metadata": {
        "id": "gej-F8Hxqalt"
      },
      "execution_count": null,
      "outputs": []
    },
    {
      "cell_type": "code",
      "source": [
        "from transformers import BertTokenizer, TFBertForQuestionAnswering"
      ],
      "metadata": {
        "id": "amGw5YT-qZFM"
      },
      "execution_count": null,
      "outputs": []
    },
    {
      "cell_type": "code",
      "source": [
        "tokenizer = BertTokenizer.from_pretrained('bert-base-cased')\n",
        "model = TFBertForQuestionAnswering.from_pretrained('bert-base-cased')"
      ],
      "metadata": {
        "id": "1i1axVYVqZ0a"
      },
      "execution_count": null,
      "outputs": []
    },
    {
      "cell_type": "code",
      "source": [
        "\n",
        "import tensorflow as tf\n",
        "\n",
        "question, text = \"Who was Jim Henson?\", \"Jim Henson was a nice puppet\"\n",
        "input_dict = tokenizer(question, text, return_tensors='tf')\n",
        "outputs = model(input_dict)\n",
        "start_logits = outputs.start_logits\n",
        "end_logits = outputs.end_logits\n",
        "\n",
        "all_tokens = tokenizer.convert_ids_to_tokens(input_dict[\"input_ids\"].numpy()[0])\n",
        "answer = ' '.join(all_tokens[tf.math.argmax(start_logits, 1)[0] : tf.math.argmax(end_logits, 1)[0]+1])"
      ],
      "metadata": {
        "id": "z5VOSNnKq6QR"
      },
      "execution_count": null,
      "outputs": []
    },
    {
      "cell_type": "code",
      "source": [
        "answer"
      ],
      "metadata": {
        "id": "41m6lpsYr134"
      },
      "execution_count": null,
      "outputs": []
    },
    {
      "cell_type": "code",
      "source": [
        ""
      ],
      "metadata": {
        "id": "zZ3sF22pr34Q"
      },
      "execution_count": null,
      "outputs": []
    }
  ]
}